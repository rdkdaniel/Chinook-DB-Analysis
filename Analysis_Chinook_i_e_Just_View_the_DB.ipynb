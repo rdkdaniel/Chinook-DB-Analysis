{
  "nbformat": 4,
  "nbformat_minor": 0,
  "metadata": {
    "colab": {
      "name": "Analysis Chinook i.e. Just View the DB",
      "provenance": [],
      "authorship_tag": "ABX9TyMwg9pzK/mR6MljWO/u4R57",
      "include_colab_link": true
    },
    "kernelspec": {
      "name": "python3",
      "display_name": "Python 3"
    },
    "language_info": {
      "name": "python"
    }
  },
  "cells": [
    {
      "cell_type": "markdown",
      "metadata": {
        "id": "view-in-github",
        "colab_type": "text"
      },
      "source": [
        "<a href=\"https://colab.research.google.com/github/rdkdaniel/Chinook-DB-Analysis/blob/main/Analysis_Chinook_i_e_Just_View_the_DB.ipynb\" target=\"_parent\"><img src=\"https://colab.research.google.com/assets/colab-badge.svg\" alt=\"Open In Colab\"/></a>"
      ]
    },
    {
      "cell_type": "code",
      "execution_count": 4,
      "metadata": {
        "id": "D7iNHJcWyoUt"
      },
      "outputs": [],
      "source": [
        "#ImportLibraries\n",
        "import pandas as pd\n",
        "import numpy as np\n",
        "import seaborn as sns\n",
        "import matplotlib.pyplot as plt\n",
        "\n",
        "\n",
        "import sqlite3\n",
        "import sqlalchemy "
      ]
    },
    {
      "cell_type": "code",
      "source": [
        "\n",
        "\n",
        "#Import Data\n",
        "#Data from Kaggle\n",
        "\n"
      ],
      "metadata": {
        "id": "o4urjMSVy9l_"
      },
      "execution_count": 2,
      "outputs": []
    },
    {
      "cell_type": "code",
      "source": [
        "# creating file path\n",
        "dbfile = 'chinook.db'\n",
        "# Create a SQL connection to our SQLite database\n",
        "con = sqlite3.connect(dbfile)\n",
        "\n",
        "# creating cursor\n",
        "cur = con.cursor()\n",
        "\n",
        "# reading all table names\n",
        "table_list = [a for a in cur.execute(\"SELECT name FROM sqlite_master WHERE type = 'table'\")]\n",
        "# here is you table list\n",
        "print(table_list)\n",
        "\n",
        "# Be sure to close the connection\n",
        "con.close()"
      ],
      "metadata": {
        "colab": {
          "base_uri": "https://localhost:8080/"
        },
        "id": "QvLJQYk2zAtw",
        "outputId": "b6d2f183-7e0c-4d11-8e74-1631e6de2156"
      },
      "execution_count": 6,
      "outputs": [
        {
          "output_type": "stream",
          "name": "stdout",
          "text": [
            "[('Album',), ('Artist',), ('Customer',), ('Employee',), ('Genre',), ('Invoice',), ('InvoiceLine',), ('MediaType',), ('Playlist',), ('PlaylistTrack',), ('Track',)]\n"
          ]
        }
      ]
    },
    {
      "cell_type": "code",
      "source": [
        "#Better visualize the DB??"
      ],
      "metadata": {
        "id": "B_eNDQzl3HJy"
      },
      "execution_count": 8,
      "outputs": []
    },
    {
      "cell_type": "code",
      "source": [
        ""
      ],
      "metadata": {
        "id": "yoXIz0oQ3KHL"
      },
      "execution_count": null,
      "outputs": []
    }
  ]
}